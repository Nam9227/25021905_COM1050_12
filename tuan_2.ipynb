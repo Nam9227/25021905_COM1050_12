{
 "cells": [
  {
   "cell_type": "markdown",
   "id": "8703cf1e",
   "metadata": {},
   "source": [
    "Bai 1:"
   ]
  },
  {
   "cell_type": "code",
   "execution_count": 1,
   "id": "1a130e98",
   "metadata": {},
   "outputs": [
    {
     "name": "stdout",
     "output_type": "stream",
     "text": [
      "24\n"
     ]
    }
   ],
   "source": [
    "a=int(input())\n",
    "print(a*2)"
   ]
  },
  {
   "cell_type": "markdown",
   "id": "25782b0d",
   "metadata": {},
   "source": [
    "Bai 2:"
   ]
  },
  {
   "cell_type": "code",
   "execution_count": null,
   "id": "28c839b8",
   "metadata": {},
   "outputs": [],
   "source": [
    "a=float(input(\"chieu dai : \"))\n",
    "b=float(input(\"chieu rong : \"))\n",
    "print(f\"{a*b-(min(a,b)/2)**2*3.14:.2f}\")"
   ]
  },
  {
   "cell_type": "markdown",
   "id": "73c75881",
   "metadata": {},
   "source": [
    "Bai 3:"
   ]
  },
  {
   "cell_type": "code",
   "execution_count": 2,
   "id": "ae1b3098",
   "metadata": {},
   "outputs": [
    {
     "name": "stdout",
     "output_type": "stream",
     "text": [
      "R\n"
     ]
    }
   ],
   "source": [
    "a=input(\"nhap ki tu :\")\n",
    "if(ord(a)>=97 & ord(a)<=127):\n",
    "    print(chr(ord(a)-32))\n",
    "else:\n",
    "    print(chr(ord(a)+32))"
   ]
  },
  {
   "cell_type": "markdown",
   "id": "ead46010",
   "metadata": {},
   "source": [
    "Bai 4:"
   ]
  },
  {
   "cell_type": "code",
   "execution_count": null,
   "id": "8395fc9a",
   "metadata": {},
   "outputs": [],
   "source": [
    "a=input(\"nhap ki tu :\")\n",
    "if(len(a)>1): \n",
    "    print(a+\"không phải là kí tự alphabet\")\n",
    "else:\n",
    "    if((ord(a)>=97 & ord(a)<=122)|(ord(a)>=65 & ord(a)<=90)):\n",
    "        print( a +\" là kí tu alphabet\")\n",
    "    else:\n",
    "        print(a+\"không phải là kí tự alphabet\")"
   ]
  },
  {
   "cell_type": "markdown",
   "id": "0ffab731",
   "metadata": {},
   "source": [
    "Bai 5:"
   ]
  },
  {
   "cell_type": "code",
   "execution_count": null,
   "id": "9d77f7fb",
   "metadata": {},
   "outputs": [],
   "source": [
    "a=input(\"nhap ki tu in hoa :\")\n",
    "if(ord(a)==65):\n",
    "    print(\"c\")\n",
    "else:\n",
    "    print(chr(ord(a)+31))"
   ]
  },
  {
   "cell_type": "markdown",
   "id": "59dce923",
   "metadata": {},
   "source": [
    "Bai 6:"
   ]
  },
  {
   "cell_type": "code",
   "execution_count": 3,
   "id": "88eeb349",
   "metadata": {},
   "outputs": [
    {
     "name": "stdout",
     "output_type": "stream",
     "text": [
      "74.83\n"
     ]
    }
   ],
   "source": [
    "a=int(input(\"canh tam giac : \"))\n",
    "b=int(input(\"canh tam giac : \"))\n",
    "c=int(input(\"canh tam giac : \"))\n",
    "if ((a+b <=c) | (a+c <=b) | (b+c<=a)):\n",
    "    print(\"ko phai tam giac\")\n",
    "else:\n",
    "    p=float((a+b+c)/2)\n",
    "    print(f\"{(p*(p-a)*(p-b)*(p-c))**0.5:.2f}\")"
   ]
  },
  {
   "cell_type": "markdown",
   "id": "b615ac47",
   "metadata": {},
   "source": [
    "Bai 7:"
   ]
  },
  {
   "cell_type": "code",
   "execution_count": 1,
   "id": "ff440922",
   "metadata": {},
   "outputs": [
    {
     "name": "stdout",
     "output_type": "stream",
     "text": [
      "5 9\n"
     ]
    }
   ],
   "source": [
    "s=input()\n",
    "print(s[4],s[8])"
   ]
  },
  {
   "cell_type": "markdown",
   "id": "2c0480d3",
   "metadata": {},
   "source": [
    "Bai 8:"
   ]
  },
  {
   "cell_type": "code",
   "execution_count": 8,
   "id": "9e183a61",
   "metadata": {},
   "outputs": [
    {
     "name": "stdout",
     "output_type": "stream",
     "text": [
      "Ho va ten: Nguyen Xuan Long\n",
      "Tien phai tra la: 426038\n"
     ]
    }
   ],
   "source": [
    "name = input(\"Ten chu ho:\")\n",
    "tr = int(input(\"Chi so thang truoc:\"))\n",
    "sa = int(input(\"Chi so thang nay:\"))\n",
    "s=sa-tr\n",
    "kq=0\n",
    "b=1\n",
    "g=[0,1984,2050,2380,2998,3350,3460]\n",
    "c=[0,50,50,100,100,100,100]\n",
    "while s > 0:\n",
    "    kq+=min(c[b],s)*g[b]\n",
    "    s=s-c[b]\n",
    "    b=b+1\n",
    "    if b==6:\n",
    "        kq+=s*g[b]\n",
    "        s=0\n",
    "print(\"Ho va ten:\",name)\n",
    "print(f\"Tien phai tra la: {kq+kq*0.08:.0f}\")"
   ]
  },
  {
   "cell_type": "markdown",
   "id": "227d1019",
   "metadata": {},
   "source": [
    "Bai tap khac:"
   ]
  },
  {
   "cell_type": "markdown",
   "id": "b3813d23",
   "metadata": {},
   "source": [
    "1."
   ]
  },
  {
   "cell_type": "code",
   "execution_count": null,
   "id": "ff94fdfc",
   "metadata": {},
   "outputs": [],
   "source": [
    "a=int(input())\n",
    "if a%2==0:\n",
    "    print(\"chan\")\n",
    "else:\n",
    "    print(\"le\")\n"
   ]
  },
  {
   "cell_type": "markdown",
   "id": "6352982e",
   "metadata": {},
   "source": [
    "2.\n"
   ]
  },
  {
   "cell_type": "code",
   "execution_count": null,
   "id": "f109484f",
   "metadata": {},
   "outputs": [],
   "source": [
    "a=int(input())\n",
    "if a%10==5:\n",
    "    print(\"True\")\n",
    "else :\n",
    "    print(\"False\")"
   ]
  },
  {
   "cell_type": "markdown",
   "id": "1c981967",
   "metadata": {},
   "source": [
    "3.\n"
   ]
  },
  {
   "cell_type": "code",
   "execution_count": null,
   "id": "91e5d17e",
   "metadata": {},
   "outputs": [],
   "source": [
    "a= int(input())\n",
    "if a%3==0 and a%5==0:\n",
    "    print(\"True\")\n",
    "else:\n",
    "    print(\"False\")\n"
   ]
  },
  {
   "cell_type": "markdown",
   "id": "893079d5",
   "metadata": {},
   "source": [
    "4.\n"
   ]
  },
  {
   "cell_type": "code",
   "execution_count": null,
   "id": "2e9e2840",
   "metadata": {},
   "outputs": [],
   "source": [
    "a= int(input())\n",
    "if a-2025>=18:\n",
    "    print(\"du\")\n",
    "else:\n",
    "    print(\"ko du\")"
   ]
  },
  {
   "cell_type": "markdown",
   "id": "cc868af5",
   "metadata": {},
   "source": [
    "5."
   ]
  },
  {
   "cell_type": "code",
   "execution_count": 9,
   "id": "f831ad0b",
   "metadata": {},
   "outputs": [
    {
     "name": "stdout",
     "output_type": "stream",
     "text": [
      "10 lon hon 1\n"
     ]
    }
   ],
   "source": [
    "a=int(input())\n",
    "b=int(input())\n",
    "if a==b: \n",
    "    print(\"bang nhau\")\n",
    "else:\n",
    "    print(max(a,b),\"lon hon\",min(a,b))"
   ]
  },
  {
   "cell_type": "markdown",
   "id": "a72d0f13",
   "metadata": {},
   "source": [
    "6."
   ]
  },
  {
   "cell_type": "code",
   "execution_count": 22,
   "id": "0be8685f",
   "metadata": {},
   "outputs": [
    {
     "name": "stdout",
     "output_type": "stream",
     "text": [
      "la chu\n"
     ]
    }
   ],
   "source": [
    "a=input()\n",
    "if 97<=ord(a)<=122 or 65<=ord(a)<=90:\n",
    "    print(\"la chu\")\n",
    "else:\n",
    "    print(\"la so\")"
   ]
  },
  {
   "cell_type": "markdown",
   "id": "f6f52fb5",
   "metadata": {},
   "source": [
    "7."
   ]
  },
  {
   "cell_type": "code",
   "execution_count": null,
   "id": "a4669acd",
   "metadata": {},
   "outputs": [],
   "source": [
    "a=int(input())\n",
    "if a>=8:\n",
    "    print(\"Giỏi\")\n",
    "elif a>=6.5 :\n",
    "    print(\"Khá\")\n",
    "elif a>=5 :\n",
    "    print(\"Trung bình\")\n",
    "else:\n",
    "    print(\"Yếu\")"
   ]
  },
  {
   "cell_type": "markdown",
   "id": "ffc3689a",
   "metadata": {},
   "source": [
    "8."
   ]
  },
  {
   "cell_type": "code",
   "execution_count": null,
   "id": "12709fc8",
   "metadata": {},
   "outputs": [],
   "source": [
    "n=int(input())\n",
    "if n%400==0:\n",
    "    print(\"nam nhuan\")\n",
    "elif n%4==0 and n%100!=0:\n",
    "    print(\"nam nhuan\")\n",
    "else:\n",
    "    print(\"ko nhuan\")"
   ]
  },
  {
   "cell_type": "markdown",
   "id": "8d2f3ff9",
   "metadata": {},
   "source": [
    "9."
   ]
  },
  {
   "cell_type": "code",
   "execution_count": 26,
   "id": "6a69ca4f",
   "metadata": {},
   "outputs": [
    {
     "name": "stdout",
     "output_type": "stream",
     "text": [
      "Chín\n"
     ]
    }
   ],
   "source": [
    "a=int(input())\n",
    "match a:\n",
    "    case 0: print(\"Không\")\n",
    "    case 1: print(\"Một\")\n",
    "    case 2: print(\"Hai\")\n",
    "    case 3: print(\"Ba\")\n",
    "    case 4: print(\"Bốn\")\n",
    "    case 5: print(\"Năm\")\n",
    "    case 6: print(\"Sáu\")\n",
    "    case 7: print(\"Bảy\")\n",
    "    case 8: print(\"Tám\")\n",
    "    case 9: print(\"Chín\")"
   ]
  },
  {
   "cell_type": "markdown",
   "id": "297d576c",
   "metadata": {},
   "source": [
    "10."
   ]
  },
  {
   "cell_type": "code",
   "execution_count": null,
   "id": "1192e41a",
   "metadata": {},
   "outputs": [],
   "source": [
    "a=int(input())\n",
    "if a>=4:\n",
    "    print(\"Qua môn\")\n",
    "else:\n",
    "    print(\"Học lại\")"
   ]
  },
  {
   "cell_type": "markdown",
   "id": "fd196513",
   "metadata": {},
   "source": [
    "11."
   ]
  },
  {
   "cell_type": "code",
   "execution_count": 27,
   "id": "a6b7975e",
   "metadata": {},
   "outputs": [
    {
     "name": "stdout",
     "output_type": "stream",
     "text": [
      "tuoi hien tai: 18\n",
      "da du 18\n"
     ]
    }
   ],
   "source": [
    "a=int(input())\n",
    "print(\"tuoi hien tai:\",2025-a)\n",
    "if 2025-a>=18:\n",
    "    print(\"da du 18\")\n",
    "else:\n",
    "    print(\"chua du 18\")"
   ]
  }
 ],
 "metadata": {
  "kernelspec": {
   "display_name": "Python 3",
   "language": "python",
   "name": "python3"
  },
  "language_info": {
   "codemirror_mode": {
    "name": "ipython",
    "version": 3
   },
   "file_extension": ".py",
   "mimetype": "text/x-python",
   "name": "python",
   "nbconvert_exporter": "python",
   "pygments_lexer": "ipython3",
   "version": "3.13.7"
  }
 },
 "nbformat": 4,
 "nbformat_minor": 5
}
