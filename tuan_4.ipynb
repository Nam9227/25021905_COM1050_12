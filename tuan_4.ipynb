{
 "cells": [
  {
   "cell_type": "markdown",
   "id": "e908e4a9",
   "metadata": {},
   "source": [
    "W4A1"
   ]
  },
  {
   "cell_type": "code",
   "execution_count": 1,
   "id": "da0a36ff",
   "metadata": {},
   "outputs": [
    {
     "name": "stdout",
     "output_type": "stream",
     "text": [
      "5050\n"
     ]
    }
   ],
   "source": [
    "n=int(input())\n",
    "kq=0\n",
    "for i in range(0,n+1):\n",
    "    kq+=i\n",
    "print(kq)"
   ]
  },
  {
   "cell_type": "markdown",
   "id": "1d2c5ac3",
   "metadata": {},
   "source": [
    "W4A2"
   ]
  },
  {
   "cell_type": "code",
   "execution_count": null,
   "id": "5a1f8c7f",
   "metadata": {},
   "outputs": [],
   "source": [
    "while a<0:\n",
    "    a=int(input())\n",
    "    "
   ]
  }
 ],
 "metadata": {
  "kernelspec": {
   "display_name": "Python 3",
   "language": "python",
   "name": "python3"
  },
  "language_info": {
   "codemirror_mode": {
    "name": "ipython",
    "version": 3
   },
   "file_extension": ".py",
   "mimetype": "text/x-python",
   "name": "python",
   "nbconvert_exporter": "python",
   "pygments_lexer": "ipython3",
   "version": "3.13.7"
  }
 },
 "nbformat": 4,
 "nbformat_minor": 5
}
