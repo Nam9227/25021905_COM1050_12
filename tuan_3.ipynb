{
 "cells": [
  {
   "cell_type": "markdown",
   "id": "1fba4f5c",
   "metadata": {},
   "source": [
    "Cach khac cua bai max 3 so"
   ]
  },
  {
   "cell_type": "code",
   "execution_count": 3,
   "id": "8c3da659",
   "metadata": {},
   "outputs": [
    {
     "name": "stdout",
     "output_type": "stream",
     "text": [
      "so lon nhat la: 3\n"
     ]
    }
   ],
   "source": [
    "a,b,c = map(int,input().split())\n",
    "m=a\n",
    "for i in (b,c):\n",
    "    if m<i:\n",
    "        m=i\n",
    "print(\"so lon nhat la:\",m)"
   ]
  },
  {
   "cell_type": "markdown",
   "id": "5db51aaa",
   "metadata": {},
   "source": [
    "Bai tap Buoi 3:"
   ]
  },
  {
   "cell_type": "markdown",
   "id": "85e64dd3",
   "metadata": {},
   "source": [
    "Bai 1:"
   ]
  },
  {
   "cell_type": "code",
   "execution_count": 5,
   "id": "cae26df2",
   "metadata": {},
   "outputs": [
    {
     "name": "stdout",
     "output_type": "stream",
     "text": [
      "54321  54321\n"
     ]
    }
   ],
   "source": [
    "a=input()\n",
    "a=\" \"+a\n",
    "b=''\n",
    "for i in range(len(a)-1,0,-1):\n",
    "    b=b+a[i]\n",
    "    print(a[i],end=\"\")\n",
    "print(\" \",b)"
   ]
  },
  {
   "cell_type": "markdown",
   "id": "3a066ef8",
   "metadata": {},
   "source": [
    "Bài 2:"
   ]
  },
  {
   "cell_type": "code",
   "execution_count": 7,
   "id": "7069ea66",
   "metadata": {},
   "outputs": [
    {
     "name": "stdout",
     "output_type": "stream",
     "text": [
      "13 12\n"
     ]
    }
   ],
   "source": [
    "a,b=map(int,input().split())\n",
    "a=a^b\n",
    "b=a^b\n",
    "a=a^b\n",
    "print(a,b)"
   ]
  },
  {
   "cell_type": "markdown",
   "id": "7a00f976",
   "metadata": {},
   "source": [
    "Bài 3:"
   ]
  },
  {
   "cell_type": "code",
   "execution_count": 34,
   "id": "85e9ae1c",
   "metadata": {},
   "outputs": [],
   "source": [
    "def kt(a):\n",
    "    if a<=0:\n",
    "         return False\n",
    "    elif a&(a-1)==0:\n",
    "         return True\n",
    "    return False"
   ]
  },
  {
   "cell_type": "code",
   "execution_count": 12,
   "id": "68f65faf",
   "metadata": {},
   "outputs": [
    {
     "name": "stdout",
     "output_type": "stream",
     "text": [
      "True\n"
     ]
    }
   ],
   "source": [
    "a=int(input())\n",
    "print(kt(a))"
   ]
  },
  {
   "cell_type": "markdown",
   "id": "2513eabe",
   "metadata": {},
   "source": [
    "Bai 4:"
   ]
  },
  {
   "cell_type": "code",
   "execution_count": 18,
   "id": "129a55b7",
   "metadata": {},
   "outputs": [
    {
     "name": "stdout",
     "output_type": "stream",
     "text": [
      "51\n"
     ]
    }
   ],
   "source": [
    "a=input()\n",
    "b=a.split()\n",
    "print(int(b[0])//int(b[1]))"
   ]
  },
  {
   "cell_type": "markdown",
   "id": "a41987c5",
   "metadata": {},
   "source": [
    "Bai 5:"
   ]
  },
  {
   "cell_type": "code",
   "execution_count": 6,
   "id": "5c03b513",
   "metadata": {},
   "outputs": [
    {
     "name": "stdout",
     "output_type": "stream",
     "text": [
      "2\n"
     ]
    }
   ],
   "source": [
    "a=input()\n",
    "b=a.split()\n",
    "c=int(b[0])/int(b[1])\n",
    "print(int(c)+(c > int(c)))"
   ]
  },
  {
   "cell_type": "markdown",
   "id": "a023ac3a",
   "metadata": {},
   "source": [
    "Bai 6:"
   ]
  },
  {
   "cell_type": "code",
   "execution_count": 26,
   "id": "67f30187",
   "metadata": {},
   "outputs": [
    {
     "name": "stdout",
     "output_type": "stream",
     "text": [
      "Odd\n"
     ]
    }
   ],
   "source": [
    "a=int(input())\n",
    "if a%2==0:\n",
    "    print(\"Even\")\n",
    "else:\n",
    "    print(\"Odd\")"
   ]
  },
  {
   "cell_type": "markdown",
   "id": "7a7a7c48",
   "metadata": {},
   "source": [
    "Bai 7:"
   ]
  },
  {
   "cell_type": "code",
   "execution_count": null,
   "id": "d4f25f46",
   "metadata": {},
   "outputs": [],
   "source": [
    "a=int(input())\n",
    "b=int(input())\n",
    "if a<0 and b<0:\n",
    "    print(\"Yes\")\n",
    "else:\n",
    "    print(\"No\")"
   ]
  },
  {
   "cell_type": "markdown",
   "id": "201d5150",
   "metadata": {},
   "source": [
    "Bai 8:"
   ]
  },
  {
   "cell_type": "code",
   "execution_count": 29,
   "id": "b80f5e10",
   "metadata": {},
   "outputs": [
    {
     "name": "stdout",
     "output_type": "stream",
     "text": [
      "True\n"
     ]
    }
   ],
   "source": [
    "a=input()\n",
    "b=input()\n",
    "print(len(a)>len(b))"
   ]
  },
  {
   "cell_type": "markdown",
   "id": "b5c74e61",
   "metadata": {},
   "source": [
    "Bai 9:"
   ]
  },
  {
   "cell_type": "code",
   "execution_count": null,
   "id": "6dc3b12b",
   "metadata": {},
   "outputs": [],
   "source": [
    "def kt2(a,b,c):\n",
    "    if a<=0 or b<=0 or c<=0 : \n",
    "        return False\n",
    "    elif a+b>c and a+c>b and b+c>a:\n",
    "        return True\n",
    "    return False"
   ]
  },
  {
   "cell_type": "code",
   "execution_count": 38,
   "id": "4d77a06a",
   "metadata": {},
   "outputs": [
    {
     "name": "stdout",
     "output_type": "stream",
     "text": [
      "True\n"
     ]
    }
   ],
   "source": [
    "a=int(input())\n",
    "b=int(input())\n",
    "c=int(input())\n",
    "print(kt2(a,b,c))"
   ]
  },
  {
   "cell_type": "markdown",
   "id": "81fd4434",
   "metadata": {},
   "source": [
    "Bai 10:"
   ]
  },
  {
   "cell_type": "code",
   "execution_count": 39,
   "id": "fd132710",
   "metadata": {},
   "outputs": [
    {
     "name": "stdout",
     "output_type": "stream",
     "text": [
      "4\n"
     ]
    }
   ],
   "source": [
    "a=int(input())\n",
    "b=int(input())\n",
    "c=int(input())\n",
    "d=int(input())\n",
    "print(max(a,b,c,d))"
   ]
  },
  {
   "cell_type": "markdown",
   "id": "ec836625",
   "metadata": {},
   "source": [
    "Bai 11:"
   ]
  },
  {
   "cell_type": "code",
   "execution_count": 40,
   "id": "1dc79757",
   "metadata": {},
   "outputs": [
    {
     "name": "stdout",
     "output_type": "stream",
     "text": [
      "Tam giác thường\n"
     ]
    }
   ],
   "source": [
    "a=int(input())\n",
    "b=int(input())\n",
    "c=int(input())\n",
    "if kt2(a,b,c)==False:\n",
    "    print(\"Không phải tam giác\")\n",
    "elif a==b==c:\n",
    "    print(\"Tam giác đều\")\n",
    "elif a==b or b==c or c==a:\n",
    "    print(\"Tam giác cân\")\n",
    "else:\n",
    "    print(\"Tam giác thường\")"
   ]
  },
  {
   "cell_type": "markdown",
   "id": "6f43189f",
   "metadata": {},
   "source": [
    "Bai 12:"
   ]
  },
  {
   "cell_type": "code",
   "execution_count": 45,
   "id": "2e3eae92",
   "metadata": {},
   "outputs": [
    {
     "name": "stdout",
     "output_type": "stream",
     "text": [
      "Yes\n"
     ]
    }
   ],
   "source": [
    "n=int(input())\n",
    "if n%400==0:\n",
    "    print(\"Yes\")\n",
    "elif n%4==0 and n%100!=0:\n",
    "    print(\"Yes\")\n",
    "else:\n",
    "    print(\"No\")"
   ]
  },
  {
   "cell_type": "markdown",
   "id": "c756ee38",
   "metadata": {},
   "source": [
    "Bai 13:"
   ]
  },
  {
   "cell_type": "code",
   "execution_count": 56,
   "id": "90e08757",
   "metadata": {},
   "outputs": [
    {
     "name": "stdout",
     "output_type": "stream",
     "text": [
      "3000\n"
     ]
    }
   ],
   "source": [
    "n=int(input())\n",
    "bac=1\n",
    "tien=0\n",
    "a=[0,1500,2000,3000]\n",
    "b=[0,50,50]\n",
    "while n>0:\n",
    "    #print(n)\n",
    "    if bac<=2:\n",
    "        tien+=min(n,b[bac])*a[bac]\n",
    "        n=n-b[bac]\n",
    "    else:\n",
    "        tien+=n*a[bac]\n",
    "        n=0\n",
    "    bac+=1\n",
    "print(tien)"
   ]
  },
  {
   "cell_type": "markdown",
   "id": "6c1dffef",
   "metadata": {},
   "source": [
    "Bai 14:"
   ]
  },
  {
   "cell_type": "code",
   "execution_count": 66,
   "id": "cc935597",
   "metadata": {},
   "outputs": [
    {
     "name": "stdout",
     "output_type": "stream",
     "text": [
      "-430.87\n"
     ]
    }
   ],
   "source": [
    "a=float(input())\n",
    "b=float(input())\n",
    "if a==b==0 :\n",
    "    print(\"Vô số nghiệm\")\n",
    "elif a==0 and b!=0 :\n",
    "    print(\"Vô nghiệm\")\n",
    "else:\n",
    "    print(f\"{-b/a:.2f}\")"
   ]
  },
  {
   "cell_type": "markdown",
   "id": "2e850f5e",
   "metadata": {},
   "source": [
    "Bai 15:"
   ]
  },
  {
   "cell_type": "code",
   "execution_count": 73,
   "id": "e4febf28",
   "metadata": {},
   "outputs": [
    {
     "name": "stdout",
     "output_type": "stream",
     "text": [
      "Yếu\n"
     ]
    }
   ],
   "source": [
    "d=float(input())\n",
    "if d>=8: \n",
    "    print(\"Giỏi\")\n",
    "elif d>=6.5:\n",
    "    print(\"Khá\")\n",
    "elif d>=5:\n",
    "    print(\"Trung bình\")\n",
    "else:\n",
    "    print(\"Yếu\")"
   ]
  },
  {
   "cell_type": "markdown",
   "id": "95b53d2c",
   "metadata": {},
   "source": [
    "Bai 16:"
   ]
  },
  {
   "cell_type": "code",
   "execution_count": 94,
   "id": "968ade11",
   "metadata": {},
   "outputs": [
    {
     "name": "stdout",
     "output_type": "stream",
     "text": [
      "9 8 8\n"
     ]
    }
   ],
   "source": [
    "a=float(input())\n",
    "if a>=0:\n",
    "    print(int(a)+(a>int(a)),(int(a)) ,int(a)+(a%1>0.5))\n",
    "else:\n",
    "    print(int(a)-(a>int(a)),int(a)-(a<int(a)) ,int(a)-(a%1>-0.5 )if int(a)!=a else int(a))"
   ]
  },
  {
   "cell_type": "markdown",
   "id": "f6f0266a",
   "metadata": {},
   "source": [
    "Bai 17:"
   ]
  },
  {
   "cell_type": "code",
   "execution_count": 95,
   "id": "a2ff494c",
   "metadata": {},
   "outputs": [
    {
     "name": "stdout",
     "output_type": "stream",
     "text": [
      "Tam giác thường\n"
     ]
    }
   ],
   "source": [
    "a=int(input())\n",
    "b=int(input())\n",
    "c=int(input())\n",
    "if kt2(a,b,c)==False:\n",
    "    print(\"Không phải tam giác\")\n",
    "elif a==b==c:\n",
    "    print(\"Tam giác đều\")\n",
    "elif a==b or b==c or c==a:\n",
    "    print(\"Tam giác cân\")\n",
    "else:\n",
    "    print(\"Tam giác thường\")"
   ]
  }
 ],
 "metadata": {
  "kernelspec": {
   "display_name": "Python 3",
   "language": "python",
   "name": "python3"
  },
  "language_info": {
   "codemirror_mode": {
    "name": "ipython",
    "version": 3
   },
   "file_extension": ".py",
   "mimetype": "text/x-python",
   "name": "python",
   "nbconvert_exporter": "python",
   "pygments_lexer": "ipython3",
   "version": "3.13.7"
  }
 },
 "nbformat": 4,
 "nbformat_minor": 5
}
