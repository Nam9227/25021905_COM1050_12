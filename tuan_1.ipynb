{
 "cells": [
  {
   "cell_type": "markdown",
   "id": "f63494d2",
   "metadata": {},
   "source": [
    "W2A1"
   ]
  },
  {
   "cell_type": "code",
   "execution_count": null,
   "id": "746880ee",
   "metadata": {},
   "outputs": [],
   "source": [
    "print(\"Hello World!\")"
   ]
  },
  {
   "cell_type": "markdown",
   "id": "49e5234c",
   "metadata": {},
   "source": [
    "W2A2"
   ]
  },
  {
   "cell_type": "code",
   "execution_count": null,
   "id": "89cc3b77",
   "metadata": {},
   "outputs": [],
   "source": [
    "cn8=input()\n",
    "print(\"chao ban\",cn8)"
   ]
  },
  {
   "cell_type": "markdown",
   "id": "c0a7250d",
   "metadata": {},
   "source": [
    "W2A3"
   ]
  },
  {
   "cell_type": "code",
   "execution_count": null,
   "id": "e2c52c4c",
   "metadata": {},
   "outputs": [],
   "source": [
    "a=int(input())\n",
    "b=int(input())\n",
    "print(f\"{a} + {b} = {a+b}\")\n",
    "print(f\"{a} - {b} = {a-b}\")\n",
    "print(f\"{a} * {b} = {a*b}\")\n",
    "print(f\"{a} / {b} = {a//b}\")\n",
    "print(f\"{a} % {b} = {a%b:.2f}\")"
   ]
  },
  {
   "cell_type": "markdown",
   "id": "f2789333",
   "metadata": {},
   "source": [
    "W2A4"
   ]
  },
  {
   "cell_type": "code",
   "execution_count": null,
   "id": "97845300",
   "metadata": {},
   "outputs": [],
   "source": [
    "s=input()\n",
    "a=s.split(\" \")\n",
    "b=[0]\n",
    "for i in a:\n",
    "    b.append(int(i))\n",
    "print(round((((b[1]+b[2]+b[3])+(b[4]+b[5])*2+b[6]*3)/10),1))"
   ]
  },
  {
   "cell_type": "markdown",
   "id": "38bbd357",
   "metadata": {},
   "source": [
    "W2A5"
   ]
  },
  {
   "cell_type": "code",
   "execution_count": null,
   "id": "b31d1637",
   "metadata": {},
   "outputs": [],
   "source": [
    "s=input()\n",
    "a=s.split(\" \")\n",
    "print(int(a[0])**int(a[1]))"
   ]
  },
  {
   "cell_type": "markdown",
   "id": "fcb59e7d",
   "metadata": {},
   "source": [
    "W2A6"
   ]
  },
  {
   "cell_type": "code",
   "execution_count": null,
   "id": "2a9d48d6",
   "metadata": {},
   "outputs": [],
   "source": [
    "s= input()\n",
    "print(\"max unicode\",ord(s))\n",
    "print(chr(ord(s)-32))"
   ]
  },
  {
   "cell_type": "markdown",
   "id": "99583fab",
   "metadata": {},
   "source": [
    "W2A7"
   ]
  },
  {
   "cell_type": "code",
   "execution_count": null,
   "id": "0a543a78",
   "metadata": {},
   "outputs": [],
   "source": [
    "print(\" ((13 ** 2) * 3) + 5 =\", ((13 ** 2) * 3) + 5)\n",
    "print(\" 13**2*3 + 5 =\",13**2*3 + 5)"
   ]
  },
  {
   "cell_type": "markdown",
   "id": "b7453838",
   "metadata": {},
   "source": [
    "W2A8"
   ]
  },
  {
   "cell_type": "code",
   "execution_count": null,
   "id": "1ec324c5",
   "metadata": {},
   "outputs": [],
   "source": [
    "a=int(input())\n",
    "print(f\"{9/5*a + 32 :.2f}\")"
   ]
  },
  {
   "cell_type": "markdown",
   "id": "7a0274bd",
   "metadata": {},
   "source": [
    "W2A9"
   ]
  },
  {
   "cell_type": "code",
   "execution_count": null,
   "id": "9470aca2",
   "metadata": {},
   "outputs": [
    {
     "name": "stdout",
     "output_type": "stream",
     "text": [
      "182.20\n"
     ]
    }
   ],
   "source": [
    "a=int(input())\n",
    "kq=10+a\n",
    "kq+=a*40/100\n",
    "print(f\"{kq:.2f}\")"
   ]
  },
  {
   "cell_type": "markdown",
   "id": "afb58bfd",
   "metadata": {},
   "source": [
    "W2A10"
   ]
  },
  {
   "cell_type": "code",
   "execution_count": null,
   "id": "7ca47d13",
   "metadata": {},
   "outputs": [],
   "source": [
    "s=input()\n",
    "a=s.split(\" \")\n",
    "print(\"Hi \" + a[2] +\", \"+a[1]+\" and \"+a[0])"
   ]
  },
  {
   "cell_type": "markdown",
   "id": "ac7dc9db",
   "metadata": {},
   "source": [
    "W2A11"
   ]
  },
  {
   "cell_type": "code",
   "execution_count": null,
   "id": "755b5476",
   "metadata": {},
   "outputs": [],
   "source": [
    "a=int(input())\n",
    "b=int(input())\n",
    "kq=0\n",
    "kq+= a*60*60\n",
    "kq+= b*60\n",
    "print(kq)"
   ]
  },
  {
   "cell_type": "markdown",
   "id": "bdae3bfe",
   "metadata": {},
   "source": [
    "W2A12"
   ]
  },
  {
   "cell_type": "code",
   "execution_count": null,
   "id": "5f99c441",
   "metadata": {},
   "outputs": [],
   "source": [
    "a=int(input())\n",
    "print(a*a*6)"
   ]
  },
  {
   "cell_type": "markdown",
   "id": "0557f57d",
   "metadata": {},
   "source": [
    "W2A13"
   ]
  },
  {
   "cell_type": "code",
   "execution_count": null,
   "id": "240ddbd6",
   "metadata": {},
   "outputs": [],
   "source": [
    "a=int(input())\n",
    "b=int(input())\n",
    "print(((a%10)*(b%10))%10)"
   ]
  },
  {
   "cell_type": "markdown",
   "id": "179bfcfd",
   "metadata": {},
   "source": [
    "W2A14"
   ]
  },
  {
   "cell_type": "code",
   "execution_count": null,
   "id": "a8958e1b",
   "metadata": {},
   "outputs": [],
   "source": [
    "a=int(input())\n",
    "b=int(input())\n",
    "a,b=b,a\n",
    "print(\"da hoan dooi a =\",a,\", b =\",b)"
   ]
  },
  {
   "cell_type": "markdown",
   "id": "c0c556ac",
   "metadata": {},
   "source": [
    "W2A15"
   ]
  },
  {
   "cell_type": "code",
   "execution_count": null,
   "id": "c3bc4b06",
   "metadata": {},
   "outputs": [],
   "source": [
    "a=int(input())\n",
    "print(6*a*(a-1)+1)"
   ]
  },
  {
   "cell_type": "markdown",
   "id": "b1892b4b",
   "metadata": {},
   "source": [
    "W2A16"
   ]
  },
  {
   "cell_type": "code",
   "execution_count": null,
   "id": "0ed184c1",
   "metadata": {},
   "outputs": [],
   "source": [
    "print(\"Spring\")\n",
    "print(\"Summer\")\n",
    "print(\"Autumn\")\n",
    "print(\"Winter\")\n"
   ]
  },
  {
   "cell_type": "markdown",
   "id": "fc25a4a2",
   "metadata": {},
   "source": [
    "W2A17"
   ]
  },
  {
   "cell_type": "code",
   "execution_count": null,
   "id": "3aa5544a",
   "metadata": {},
   "outputs": [],
   "source": [
    "print(\"*\")\n",
    "print(\"***\")\n",
    "print(\"*****\")"
   ]
  },
  {
   "cell_type": "markdown",
   "id": "e84c7e22",
   "metadata": {},
   "source": [
    "W2A18"
   ]
  },
  {
   "cell_type": "code",
   "execution_count": null,
   "id": "fdfa49f0",
   "metadata": {},
   "outputs": [],
   "source": [
    "def T_row(i):\n",
    "    return \"###\" if i == 0 else \" # \"\n",
    "\n",
    "def D_row(i):\n",
    "    if i == 0 or i == 4:\n",
    "        return \"## \"\n",
    "    else:\n",
    "        return \"# #\"\n",
    "\n",
    "\n",
    "for r in range(5):\n",
    "    line = T_row(r) + \" \" + D_row(r) + \" \" + T_row(r) + \" \" + T_row(r)\n",
    "    print(line)\n"
   ]
  },
  {
   "cell_type": "markdown",
   "id": "9addb0c1",
   "metadata": {},
   "source": [
    "W2A19"
   ]
  },
  {
   "cell_type": "code",
   "execution_count": null,
   "id": "5168c7aa",
   "metadata": {},
   "outputs": [],
   "source": [
    "a=[\n",
    "    \"Monday\",\n",
    "    \"Tuesday\",\n",
    "    \"Wednesday\",\n",
    "    \"Thursday\",\n",
    "    \"Friday\",\n",
    "    \"Friday\",\n",
    "    \"Saturday\",\n",
    "    \"Sunday\"\n",
    "    ]\n",
    "for i in a:\n",
    "    print(i)\n",
    "\n",
    "\n"
   ]
  },
  {
   "cell_type": "markdown",
   "id": "17b0dcc4",
   "metadata": {},
   "source": [
    "W2A20"
   ]
  },
  {
   "cell_type": "code",
   "execution_count": null,
   "id": "7bb481c2",
   "metadata": {},
   "outputs": [],
   "source": [
    "a=[\n",
    "    \"January\",\n",
    "    \"February\",\n",
    "    \"March\",\n",
    "    \"April\",\n",
    "    \"May\",\n",
    "    \"June\",\n",
    "    \"July\",\n",
    "    \"August\",\n",
    "    \"September\",\n",
    "    \"October\",\n",
    "    \"November\",\n",
    "    \"December\"\n",
    "    ]\n",
    "for i in a:\n",
    "    print(i)\n",
    "\n",
    "\n"
   ]
  },
  {
   "cell_type": "markdown",
   "id": "aa8dfaef",
   "metadata": {},
   "source": [
    "W2A21"
   ]
  },
  {
   "cell_type": "code",
   "execution_count": null,
   "id": "60a76b74",
   "metadata": {},
   "outputs": [],
   "source": [
    "for i in range(0,10):\n",
    "    print(\"Hello, world\")"
   ]
  }
 ],
 "metadata": {
  "kernelspec": {
   "display_name": "Python 3",
   "language": "python",
   "name": "python3"
  },
  "language_info": {
   "codemirror_mode": {
    "name": "ipython",
    "version": 3
   },
   "file_extension": ".py",
   "mimetype": "text/x-python",
   "name": "python",
   "nbconvert_exporter": "python",
   "pygments_lexer": "ipython3",
   "version": "3.13.7"
  }
 },
 "nbformat": 4,
 "nbformat_minor": 5
}
