{
 "cells": [
  {
   "cell_type": "markdown",
   "id": "8703cf1e",
   "metadata": {},
   "source": [
    "Bai 1:"
   ]
  },
  {
   "cell_type": "code",
   "execution_count": 1,
   "id": "1a130e98",
   "metadata": {},
   "outputs": [
    {
     "name": "stdout",
     "output_type": "stream",
     "text": [
      "24\n"
     ]
    }
   ],
   "source": [
    "a=int(input())\n",
    "print(a*2)"
   ]
  },
  {
   "cell_type": "markdown",
   "id": "25782b0d",
   "metadata": {},
   "source": [
    "Bai 2:"
   ]
  },
  {
   "cell_type": "code",
   "execution_count": null,
   "id": "28c839b8",
   "metadata": {},
   "outputs": [],
   "source": [
    "a=float(input(\"chieu dai : \"))\n",
    "b=float(input(\"chieu rong : \"))\n",
    "print(f\"{a*b-(min(a,b)/2)**2*3.14:.2f}\")"
   ]
  },
  {
   "cell_type": "markdown",
   "id": "73c75881",
   "metadata": {},
   "source": [
    "Bai 3:"
   ]
  },
  {
   "cell_type": "code",
   "execution_count": 2,
   "id": "ae1b3098",
   "metadata": {},
   "outputs": [
    {
     "name": "stdout",
     "output_type": "stream",
     "text": [
      "R\n"
     ]
    }
   ],
   "source": [
    "a=input(\"nhap ki tu :\")\n",
    "if(ord(a)>=97 & ord(a)<=127):\n",
    "    print(chr(ord(a)-32))\n",
    "else:\n",
    "    print(chr(ord(a)+32))"
   ]
  },
  {
   "cell_type": "markdown",
   "id": "ead46010",
   "metadata": {},
   "source": [
    "Bai 4:"
   ]
  },
  {
   "cell_type": "code",
   "execution_count": null,
   "id": "8395fc9a",
   "metadata": {},
   "outputs": [],
   "source": [
    "a=input(\"nhap ki tu :\")\n",
    "if(len(a)>1): \n",
    "    print(a+\"không phải là kí tự alphabet\")\n",
    "else:\n",
    "    if((ord(a)>=97 & ord(a)<=122)|(ord(a)>=65 & ord(a)<=90)):\n",
    "        print( a +\" là kí tu alphabet\")\n",
    "    else:\n",
    "        print(a+\"không phải là kí tự alphabet\")"
   ]
  },
  {
   "cell_type": "markdown",
   "id": "0ffab731",
   "metadata": {},
   "source": [
    "Bai 5:"
   ]
  },
  {
   "cell_type": "code",
   "execution_count": null,
   "id": "9d77f7fb",
   "metadata": {},
   "outputs": [],
   "source": [
    "a=input(\"nhap ki tu in hoa :\")\n",
    "if(ord(a)==65):\n",
    "    print(\"c\")\n",
    "else:\n",
    "    print(chr(ord(a)+31))"
   ]
  },
  {
   "cell_type": "markdown",
   "id": "59dce923",
   "metadata": {},
   "source": [
    "Bai 6:"
   ]
  },
  {
   "cell_type": "code",
   "execution_count": 3,
   "id": "88eeb349",
   "metadata": {},
   "outputs": [
    {
     "name": "stdout",
     "output_type": "stream",
     "text": [
      "74.83\n"
     ]
    }
   ],
   "source": [
    "a=int(input(\"canh tam giac : \"))\n",
    "b=int(input(\"canh tam giac : \"))\n",
    "c=int(input(\"canh tam giac : \"))\n",
    "if ((a+b <=c) | (a+c <=b) | (b+c<=a)):\n",
    "    print(\"ko phai tam giac\")\n",
    "else:\n",
    "    p=float((a+b+c)/2)\n",
    "    print(f\"{(p*(p-a)*(p-b)*(p-c))**0.5:.2f}\")"
   ]
  }
 ],
 "metadata": {
  "kernelspec": {
   "display_name": "Python 3",
   "language": "python",
   "name": "python3"
  },
  "language_info": {
   "codemirror_mode": {
    "name": "ipython",
    "version": 3
   },
   "file_extension": ".py",
   "mimetype": "text/x-python",
   "name": "python",
   "nbconvert_exporter": "python",
   "pygments_lexer": "ipython3",
   "version": "3.13.7"
  }
 },
 "nbformat": 4,
 "nbformat_minor": 5
}
